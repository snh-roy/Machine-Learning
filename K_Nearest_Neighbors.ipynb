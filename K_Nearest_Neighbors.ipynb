{
  "cells": [
    {
      "cell_type": "code",
      "execution_count": 8,
      "metadata": {
        "id": "w_yU0qB-mcc7"
      },
      "outputs": [
        {
          "ename": "ModuleNotFoundError",
          "evalue": "No module named 'numpy'",
          "output_type": "error",
          "traceback": [
            "\u001b[0;31m---------------------------------------------------------------------------\u001b[0m",
            "\u001b[0;31mModuleNotFoundError\u001b[0m                       Traceback (most recent call last)",
            "Cell \u001b[0;32mIn[8], line 1\u001b[0m\n\u001b[0;32m----> 1\u001b[0m \u001b[39mimport\u001b[39;00m \u001b[39mnumpy\u001b[39;00m \u001b[39mas\u001b[39;00m \u001b[39mnp\u001b[39;00m\n\u001b[1;32m      2\u001b[0m \u001b[39mimport\u001b[39;00m \u001b[39mmatplotlib\u001b[39;00m\u001b[39m.\u001b[39;00m\u001b[39mpyplot\u001b[39;00m \u001b[39mas\u001b[39;00m \u001b[39mplt\u001b[39;00m\n\u001b[1;32m      3\u001b[0m \u001b[39mfrom\u001b[39;00m \u001b[39msklearn\u001b[39;00m \u001b[39mimport\u001b[39;00m datasets\n",
            "\u001b[0;31mModuleNotFoundError\u001b[0m: No module named 'numpy'"
          ]
        }
      ],
      "source": [
        "import numpy as np\n",
        "import matplotlib.pyplot as plt\n",
        "from sklearn import datasets\n",
        "from sklearn.model_selection import train_test_split\n",
        "from sklearn.preprocessing import StandardScaler\n"
      ]
    },
    {
      "cell_type": "code",
      "execution_count": 9,
      "metadata": {
        "colab": {
          "base_uri": "https://localhost:8080/",
          "height": 430
        },
        "id": "ySo0xblMmm1R",
        "outputId": "4a4887ef-3be2-4a33-892a-aad3782706ed"
      },
      "outputs": [
        {
          "ename": "NameError",
          "evalue": "name 'plt' is not defined",
          "output_type": "error",
          "traceback": [
            "\u001b[0;31m---------------------------------------------------------------------------\u001b[0m",
            "\u001b[0;31mNameError\u001b[0m                                 Traceback (most recent call last)",
            "Cell \u001b[0;32mIn[9], line 5\u001b[0m\n\u001b[1;32m      2\u001b[0m x2 \u001b[39m=\u001b[39m [\u001b[39m21\u001b[39m, \u001b[39m19\u001b[39m, \u001b[39m24\u001b[39m, \u001b[39m17\u001b[39m, \u001b[39m16\u001b[39m, \u001b[39m25\u001b[39m, \u001b[39m24\u001b[39m, \u001b[39m22\u001b[39m, \u001b[39m21\u001b[39m, \u001b[39m21\u001b[39m]\n\u001b[1;32m      3\u001b[0m classes \u001b[39m=\u001b[39m [\u001b[39m0\u001b[39m, \u001b[39m0\u001b[39m, \u001b[39m1\u001b[39m, \u001b[39m0\u001b[39m, \u001b[39m0\u001b[39m, \u001b[39m1\u001b[39m, \u001b[39m1\u001b[39m, \u001b[39m0\u001b[39m, \u001b[39m1\u001b[39m, \u001b[39m1\u001b[39m]\n\u001b[0;32m----> 5\u001b[0m plt\u001b[39m.\u001b[39mscatter(x1, x2, c\u001b[39m=\u001b[39mclasses)\n\u001b[1;32m      6\u001b[0m plt\u001b[39m.\u001b[39mshow()\n",
            "\u001b[0;31mNameError\u001b[0m: name 'plt' is not defined"
          ]
        }
      ],
      "source": [
        "x1 = [4, 5, 10, 4, 3, 11, 14 , 8, 10, 12]\n",
        "x2 = [21, 19, 24, 17, 16, 25, 24, 22, 21, 21]\n",
        "classes = [0, 0, 1, 0, 0, 1, 1, 0, 1, 1]\n",
        "\n",
        "plt.scatter(x1, x2, c=classes)\n",
        "plt.show()"
      ]
    },
    {
      "cell_type": "code",
      "execution_count": 10,
      "metadata": {
        "colab": {
          "base_uri": "https://localhost:8080/",
          "height": 430
        },
        "id": "Zsu98kSrmy1K",
        "outputId": "64975997-b21a-46c5-aaaa-bc063ef33621"
      },
      "outputs": [
        {
          "ename": "NameError",
          "evalue": "name 'plt' is not defined",
          "output_type": "error",
          "traceback": [
            "\u001b[0;31m---------------------------------------------------------------------------\u001b[0m",
            "\u001b[0;31mNameError\u001b[0m                                 Traceback (most recent call last)",
            "Cell \u001b[0;32mIn[10], line 6\u001b[0m\n\u001b[1;32m      2\u001b[0m new_x2 \u001b[39m=\u001b[39m \u001b[39m21\u001b[39m\n\u001b[1;32m      3\u001b[0m new_point \u001b[39m=\u001b[39m [(new_x1, new_x2)]\n\u001b[0;32m----> 6\u001b[0m plt\u001b[39m.\u001b[39mscatter(x1 \u001b[39m+\u001b[39m [new_x1], x2 \u001b[39m+\u001b[39m [new_x2], c\u001b[39m=\u001b[39mclasses \u001b[39m+\u001b[39m [\u001b[39m1\u001b[39m])\n\u001b[1;32m      9\u001b[0m plt\u001b[39m.\u001b[39mshow()\n",
            "\u001b[0;31mNameError\u001b[0m: name 'plt' is not defined"
          ]
        }
      ],
      "source": [
        "new_x1 = 8\n",
        "new_x2 = 21\n",
        "new_point = [(new_x1, new_x2)]\n",
        "\n",
        "\n",
        "plt.scatter(x1 + [new_x1], x2 + [new_x2], c=classes + [1])\n",
        "\n",
        "\n",
        "plt.show()"
      ]
    },
    {
      "cell_type": "code",
      "execution_count": 16,
      "metadata": {
        "id": "BUz6DdhEoY6v"
      },
      "outputs": [],
      "source": [
        "X = np.column_stack((x1, x2))  # Combining x1 and x2 into a 2D array\n",
        "y = np.array(classes)"
      ]
    },
    {
      "cell_type": "code",
      "execution_count": 17,
      "metadata": {
        "id": "czT8K3OuoflU"
      },
      "outputs": [],
      "source": [
        "def most_common(lst):\n",
        "    return max(set(lst), key=lst.count)\n",
        "\n",
        "def euclidean(point, data):\n",
        "    # Euclidean distance between point and each row in data\n",
        "    return np.sqrt(np.sum((point - data) ** 2, axis=1))\n"
      ]
    },
    {
      "cell_type": "code",
      "execution_count": 18,
      "metadata": {
        "id": "ImlVfZrTohRi"
      },
      "outputs": [],
      "source": [
        "class KNeighborsClassifier:\n",
        "    def __init__(self, k=5, dist_metric=euclidean):\n",
        "        self.k = k\n",
        "        self.dist_metric = dist_metric\n",
        "\n",
        "    def fit(self, X_train, y_train):\n",
        "        self.X_train = X_train\n",
        "        self.y_train = y_train\n",
        "\n",
        "    def predict(self, X_test):\n",
        "        neighbors = []\n",
        "        for x in X_test:\n",
        "            distances = self.dist_metric(x, self.X_train)\n",
        "            y_sorted = [y for _, y in sorted(zip(distances, self.y_train))]\n",
        "            neighbors.append(y_sorted[:self.k])\n",
        "        return list(map(most_common, neighbors))\n",
        "\n",
        "    def evaluate(self, X_test, y_test):\n",
        "        y_pred = np.array(self.predict(X_test))  # Convert predictions to an array\n",
        "        accuracy = np.sum(y_pred == y_test) / len(y_test)\n",
        "        return accuracy\n"
      ]
    },
    {
      "cell_type": "code",
      "execution_count": 19,
      "metadata": {
        "id": "n0rpJMA3omIO"
      },
      "outputs": [],
      "source": [
        "# Split data into train & test sets (80% train, 20% test)\n",
        "X_train, X_test, y_train, y_test = train_test_split(X, y, test_size=0.2)\n",
        "\n",
        "# Standardize the data (scaling)\n",
        "ss = StandardScaler().fit(X_train)\n",
        "X_train = ss.transform(X_train)\n",
        "X_test = ss.transform(X_test)"
      ]
    },
    {
      "cell_type": "code",
      "execution_count": 23,
      "metadata": {
        "id": "Eaj9dRSbowzs"
      },
      "outputs": [],
      "source": [
        "# Test KNN model across varying k values\n",
        "accuracies = []\n",
        "ks = range(3, 30)\n",
        "\n",
        "for k in ks:\n",
        "    knn = KNeighborsClassifier(k=k)\n",
        "    knn.fit(X_train, y_train)\n",
        "    accuracy = knn.evaluate(X_test, y_test)\n",
        "    accuracies.append(accuracy)\n"
      ]
    },
    {
      "cell_type": "code",
      "execution_count": 24,
      "metadata": {
        "colab": {
          "base_uri": "https://localhost:8080/",
          "height": 472
        },
        "id": "Km6q8kkno0oK",
        "outputId": "01e297d5-f80e-47bb-f6de-0ef937a6b1a9"
      },
      "outputs": [
        {
          "data": {
            "image/png": "[encoded data removed]",
            "text/plain": [
              "<Figure size 640x480 with 1 Axes>"
            ]
          },
          "metadata": {},
          "output_type": "display_data"
        }
      ],
      "source": [
        "# Visualize accuracy vs. k\n",
        "fig, ax = plt.subplots()\n",
        "ax.plot(ks, accuracies)\n",
        "ax.set(xlabel=\"k\", ylabel=\"Accuracy\", title=\"Performance of KNN\")\n",
        "plt.show()\n"
      ]
    },
    {
      "cell_type": "code",
      "execution_count": 26,
      "metadata": {
        "colab": {
          "base_uri": "https://localhost:8080/"
        },
        "id": "goGMfTzVmi_Z",
        "outputId": "fbb13eeb-e6f5-4ba5-b5be-03a1922bfe29"
      },
      "outputs": [
        {
          "name": "stdout",
          "output_type": "stream",
          "text": [
            "Best k: 3\n"
          ]
        }
      ],
      "source": [
        "# Find the best k\n",
        "best_k = ks[np.argmax(accuracies)]\n",
        "print(f\"Best k: {best_k}\")\n"
      ]
    },
    {
      "cell_type": "code",
      "execution_count": 27,
      "metadata": {
        "colab": {
          "base_uri": "https://localhost:8080/"
        },
        "id": "-MY7jkMhok1e",
        "outputId": "431183c9-a006-4319-aff7-b4f8c592cdf5"
      },
      "outputs": [
        {
          "name": "stdout",
          "output_type": "stream",
          "text": [
            "Predicted class for the new point (8, 21): 0\n"
          ]
        }
      ],
      "source": [
        "knn_best = KNeighborsClassifier(k=best_k)\n",
        "knn_best.fit(X_train, y_train)\n",
        "\n",
        "# New point to predict\n",
        "new_x1 = 8\n",
        "new_x2 = 21\n",
        "new_point = [(new_x1, new_x2)]\n",
        "\n",
        "# Standardize the new point using the same scaler (fit on the training set)\n",
        "new_point_scaled = ss.transform(new_point)\n",
        "\n",
        "# Predict the class for the new point using the best k\n",
        "predicted_class = knn_best.predict(new_point_scaled)[0]  # Only one new point, so we take the first prediction\n",
        "print(f\"Predicted class for the new point ({new_x1}, {new_x2}): {predicted_class}\")\n",
        "\n"
      ]
    },
    {
      "cell_type": "code",
      "execution_count": 28,
      "metadata": {
        "colab": {
          "base_uri": "https://localhost:8080/",
          "height": 430
        },
        "id": "CGs-sGJRpuhe",
        "outputId": "07aaeb27-2c5f-43d9-bf32-2464c79ee272"
      },
      "outputs": [
        {
          "data": {
            "image/png": "[encoded data removed]",
            "text/plain": [
              "<Figure size 640x480 with 1 Axes>"
            ]
          },
          "metadata": {},
          "output_type": "display_data"
        }
      ],
      "source": [
        "new_x1 = 8\n",
        "new_x2 = 21\n",
        "new_point = [(new_x1, new_x2)]\n",
        "\n",
        "\n",
        "plt.scatter(x1 + [new_x1], x2 + [new_x2], c=classes + [predicted_class])\n",
        "\n",
        "\n",
        "plt.show()"
      ]
    },
    {
      "cell_type": "code",
      "execution_count": null,
      "metadata": {
        "id": "222PBAegp345"
      },
      "outputs": [],
      "source": []
    }
  ],
  "metadata": {
    "colab": {
      "provenance": []
    },
    "kernelspec": {
      "display_name": "Python 3",
      "name": "python3"
    },
    "language_info": {
      "codemirror_mode": {
        "name": "ipython",
        "version": 3
      },
      "file_extension": ".py",
      "mimetype": "text/x-python",
      "name": "python",
      "nbconvert_exporter": "python",
      "pygments_lexer": "ipython3",
      "version": "3.9.6"
    }
  },
  "nbformat": 4,
  "nbformat_minor": 0
}
